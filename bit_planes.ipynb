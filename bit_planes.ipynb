{
 "cells": [
  {
   "cell_type": "code",
   "execution_count": null,
   "metadata": {},
   "outputs": [],
   "source": [
    "import numpy as np\n",
    "np.random.seed(233)\n",
    "import matplotlib.pyplot as plt\n",
    "\n",
    "import cv2\n",
    "\n",
    "%matplotlib inline"
   ]
  },
  {
   "cell_type": "markdown",
   "metadata": {},
   "source": [
    "## Convert between different bits\n",
    "\n",
    "Steps to change the image to $N$ bits image:\n",
    "\n",
    "1. Normalize the color into $(0,1)$ range, (if already, skip)\n",
    "2. Multiply the color with $2^{N}-1$, then add $0.5$\n",
    "3. Round the color into integer\n",
    "4. (optional for python visualization) Normalize the color into $(0,1)$ range"
   ]
  },
  {
   "cell_type": "code",
   "execution_count": null,
   "metadata": {},
   "outputs": [],
   "source": [
    "resolution = 32\n",
    "x = np.linspace(0, 1, resolution)\n",
    "y = np.linspace(0, 1, resolution)\n",
    "X, Y = np.meshgrid(x, y, indexing='xy')\n",
    "image_8bit = (1 - X) * 255\n",
    "image_8bit = image_8bit.astype(np.int16)\n",
    "plt.imshow(image_8bit, cmap='gray')"
   ]
  },
  {
   "cell_type": "code",
   "execution_count": null,
   "metadata": {},
   "outputs": [],
   "source": [
    "# Fisrt Step\n",
    "# Normalize the data\n",
    "normalize_img = image_8bit / 255\n",
    "\n",
    "# Convert to 4 bit, second step\n",
    "# multiply with 2^4-1 = 15\n",
    "multiply_img = normalize_img * 15\n",
    "\n",
    "# Third step\n",
    "# round to integer\n",
    "image_4bit = np.floor(multiply_img)\n",
    "\n",
    "# Optional step\n",
    "# normalize back\n",
    "image_4bit = image_4bit / 15"
   ]
  },
  {
   "cell_type": "code",
   "execution_count": null,
   "metadata": {},
   "outputs": [],
   "source": [
    "plt.imshow(image_4bit, cmap='gray')"
   ]
  },
  {
   "cell_type": "code",
   "execution_count": null,
   "metadata": {},
   "outputs": [],
   "source": [
    "def convert_to_N_bits(img, N):\n",
    "    # Fisrt Step\n",
    "    # Assume img is already normalized\n",
    "\n",
    "    # Convert to 4 bit, second step\n",
    "    # multiply with 2^4-1 = 15\n",
    "    multiply_img = img * (2 ** N - 1) + 0.5\n",
    "\n",
    "    # Third step\n",
    "    # round to integer\n",
    "    image_Nbit = np.floor(multiply_img)\n",
    "\n",
    "    # Optional step\n",
    "    # normalize back\n",
    "    image_Nbit = image_Nbit / (2 ** N - 1)\n",
    "    return image_Nbit"
   ]
  },
  {
   "cell_type": "code",
   "execution_count": null,
   "metadata": {},
   "outputs": [],
   "source": [
    "fig, axs = plt.subplots(1, 8, figsize=(21, 3))\n",
    "\n",
    "axs[0].imshow(image_8bit, cmap='gray')\n",
    "axs[0].set_title(f'8-Bit image')\n",
    "for i, bit in enumerate(np.arange(7, 0, -1)):\n",
    "    axs[i+1].imshow(convert_to_N_bits(image_8bit / 255, bit), \n",
    "                  cmap='gray', vmin=0, vmax=1)\n",
    "    axs[i+1].set_title(f'{bit}-Bit image')"
   ]
  },
  {
   "cell_type": "markdown",
   "metadata": {},
   "source": [
    "## Convert the color values into binary bit values"
   ]
  },
  {
   "cell_type": "code",
   "execution_count": null,
   "metadata": {},
   "outputs": [],
   "source": [
    "# binary_repr function\n",
    "np.binary_repr(12, width=8)"
   ]
  },
  {
   "cell_type": "code",
   "execution_count": null,
   "metadata": {},
   "outputs": [],
   "source": [
    "# convert the following array into 8-bit bits values \n",
    "int_array = np.array([11, 111, 255])"
   ]
  },
  {
   "cell_type": "code",
   "execution_count": null,
   "metadata": {},
   "outputs": [],
   "source": [
    "# initialize a zero array with the same shape, \n",
    "# with one additional bit shape\n",
    "bit_array = np.zeros(list(int_array.shape) + [8])\n",
    "bit_array.shape"
   ]
  },
  {
   "cell_type": "code",
   "execution_count": null,
   "metadata": {},
   "outputs": [],
   "source": [
    "# iterate through the whole array\n",
    "for i in range(int_array.shape[0]):\n",
    "    binary = np.binary_repr(int_array[i], width=8)\n",
    "    for bit_i, bit in enumerate(binary):\n",
    "        bit_array[i, bit_i] = int(bit)\n",
    "bit_array"
   ]
  },
  {
   "cell_type": "markdown",
   "metadata": {},
   "source": [
    "## Get the Bit plane"
   ]
  },
  {
   "cell_type": "code",
   "execution_count": null,
   "metadata": {},
   "outputs": [],
   "source": [
    "plt.imshow(image_8bit, cmap='gray')"
   ]
  },
  {
   "cell_type": "code",
   "execution_count": null,
   "metadata": {},
   "outputs": [],
   "source": [
    "image_8bit.shape"
   ]
  },
  {
   "cell_type": "code",
   "execution_count": null,
   "metadata": {},
   "outputs": [],
   "source": [
    "# initialize a zero array with the same shape, \n",
    "# with one additional bit shape\n",
    "bit_image = np.zeros(list(image_8bit.shape) + [8])\n",
    "bit_image.shape"
   ]
  },
  {
   "cell_type": "code",
   "execution_count": null,
   "metadata": {},
   "outputs": [],
   "source": [
    "# iterate through the whole image\n",
    "for row in range(image_8bit.shape[0]):\n",
    "    for col in range(image_8bit.shape[1]):\n",
    "        binary = np.binary_repr(image_8bit[row, col], width=8)\n",
    "        for bit_i, bit in enumerate(binary):\n",
    "            bit_image[row, col, bit_i] = int(bit)"
   ]
  },
  {
   "cell_type": "code",
   "execution_count": null,
   "metadata": {},
   "outputs": [],
   "source": [
    "fig, axs = plt.subplots(2, 5, figsize=(15, 6))\n",
    "axs[0,0].imshow(image_8bit, cmap='gray')\n",
    "axs[1,0].axis('off')\n",
    "\n",
    "for bit in range(8):\n",
    "    axs[bit // 4, 1 + bit % 4].imshow(bit_image[...,bit], cmap='gray')\n",
    "    axs[bit // 4, 1 + bit % 4].set_title(f'Bit plane {7 - bit}')"
   ]
  },
  {
   "cell_type": "markdown",
   "metadata": {},
   "source": [
    "## Image example"
   ]
  },
  {
   "cell_type": "code",
   "execution_count": null,
   "metadata": {},
   "outputs": [],
   "source": [
    "img = cv2.imread('example_image.jpeg')\n",
    "img = cv2.cvtColor(img, cv2.COLOR_BGR2GRAY)\n",
    "plt.imshow(img, cmap='gray'), img.shape"
   ]
  },
  {
   "cell_type": "code",
   "execution_count": null,
   "metadata": {},
   "outputs": [],
   "source": [
    "# initialize a zero array with the same shape, \n",
    "# with one additional bit shape\n",
    "bit_image = np.zeros(list(img.shape) + [8])\n",
    "bit_image.shape"
   ]
  },
  {
   "cell_type": "code",
   "execution_count": null,
   "metadata": {},
   "outputs": [],
   "source": [
    "# iterate through the whole image\n",
    "for row in range(img.shape[0]):\n",
    "    for col in range(img.shape[1]):\n",
    "        binary = np.binary_repr(img[row, col], width=8)\n",
    "        for bit_i, bit in enumerate(binary):\n",
    "            bit_image[row, col, bit_i] = int(bit)"
   ]
  },
  {
   "cell_type": "code",
   "execution_count": null,
   "metadata": {},
   "outputs": [],
   "source": [
    "fig, axs = plt.subplots(4, 3, figsize=(8, 8))\n",
    "axs[0,0].imshow(img, cmap='gray')\n",
    "axs[0,0].axis('off')\n",
    "axs[1,0].axis('off')\n",
    "axs[2,0].axis('off')\n",
    "axs[3,0].axis('off')\n",
    "axs[3,2].axis('off')\n",
    "\n",
    "for bit in range(8):\n",
    "    axs[bit // 2, 1 + bit % 2].imshow(bit_image[...,bit], cmap='gray')\n",
    "    axs[bit // 2, 1 + bit % 2].set_title(f'Bit plane {7 - bit}')\n",
    "    axs[bit // 2, 1 + bit % 2].axis('off')\n"
   ]
  },
  {
   "cell_type": "code",
   "execution_count": null,
   "metadata": {},
   "outputs": [],
   "source": []
  }
 ],
 "metadata": {
  "kernelspec": {
   "display_name": "Python 3",
   "language": "python",
   "name": "python3"
  },
  "language_info": {
   "codemirror_mode": {
    "name": "ipython",
    "version": 3
   },
   "file_extension": ".py",
   "mimetype": "text/x-python",
   "name": "python",
   "nbconvert_exporter": "python",
   "pygments_lexer": "ipython3",
   "version": "3.8.5"
  }
 },
 "nbformat": 4,
 "nbformat_minor": 4
}
