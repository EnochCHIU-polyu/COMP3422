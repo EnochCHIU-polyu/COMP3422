{
 "cells": [
  {
   "cell_type": "code",
   "execution_count": null,
   "metadata": {},
   "outputs": [],
   "source": [
    "import numpy as np\n",
    "import matplotlib.pyplot as plt\n",
    "import cv2\n",
    "\n",
    "%matplotlib inline"
   ]
  },
  {
   "cell_type": "markdown",
   "metadata": {},
   "source": [
    "## RGB color"
   ]
  },
  {
   "cell_type": "code",
   "execution_count": null,
   "metadata": {},
   "outputs": [],
   "source": [
    "resolution = 64\n",
    "red_img = np.zeros(shape=(64, 64, 3), dtype=np.float32)\n",
    "red_img[...,0] = 1\n",
    "plt.imshow(red_img)"
   ]
  },
  {
   "cell_type": "code",
   "execution_count": null,
   "metadata": {},
   "outputs": [],
   "source": [
    "resolution = 64\n",
    "green_img = np.zeros(shape=(64, 64, 3), dtype=np.float32)\n",
    "green_img[...,1] = 1\n",
    "plt.imshow(green_img)"
   ]
  },
  {
   "cell_type": "code",
   "execution_count": null,
   "metadata": {},
   "outputs": [],
   "source": [
    "resolution = 64\n",
    "blue_img = np.zeros(shape=(64, 64, 3), dtype=np.float32)\n",
    "blue_img[...,2] = 1\n",
    "plt.imshow(blue_img)"
   ]
  },
  {
   "cell_type": "markdown",
   "metadata": {},
   "source": [
    "## Secondary colors - CMY format\n",
    "- \n",
    "<span style=\"color:magenta\">magenta</span>:\n",
    "<span style=\"color:red\">red</span> plus\n",
    "<span style=\"color:blue\">blue</span>\n",
    "- \n",
    "<span style=\"color:cyan\">cyan</span>:\n",
    "<span style=\"color:green\">green</span> plus\n",
    "<span style=\"color:blue\">blue</span>\n",
    "- \n",
    "<span style=\"color:yellow\">yellow</span>:\n",
    "<span style=\"color:red\">red</span> plus\n",
    "<span style=\"color:green\">green</span>"
   ]
  },
  {
   "cell_type": "code",
   "execution_count": null,
   "metadata": {},
   "outputs": [],
   "source": [
    "magenta_img = red_img + blue_img\n",
    "plt.imshow(magenta_img)"
   ]
  },
  {
   "cell_type": "code",
   "execution_count": null,
   "metadata": {},
   "outputs": [],
   "source": [
    "cyan_img = green_img + blue_img\n",
    "plt.imshow(cyan_img)"
   ]
  },
  {
   "cell_type": "code",
   "execution_count": null,
   "metadata": {},
   "outputs": [],
   "source": [
    "yellow_img = red_img + green_img\n",
    "plt.imshow(yellow_img)"
   ]
  },
  {
   "cell_type": "markdown",
   "metadata": {},
   "source": [
    "<span style=\"background-color:rgba(0, 0, 0, 0.2)\"><span style=\"color:red\">$red = (1, 0, 0)$</span> \\\n",
    "<span style=\"color:green\">$green = (0, 1, 0)$</span> \\\n",
    "<span style=\"color:blue\">$blue = (0, 0, 1)$</span> \\\n",
    "<span style=\"color:magenta\">$magenta = (1, 0, 1)$</span> \\\n",
    "<span style=\"color:cyan\">$cyan = (0, 1, 1)$</span> \\\n",
    "<span style=\"color:yellow\">$yellow = (1, 1, 0)$</span> </span>"
   ]
  },
  {
   "cell_type": "markdown",
   "metadata": {},
   "source": [
    "## HSI format\n",
    "\n",
    "$\\theta = \\cos^{-1}{\\{ \\frac{[(R-G)+(R-B)]/2}{[(R-G)^2+(R-B)(G-B)]^{1/2}} \\} }$\n",
    "\n",
    "$H=\\left\\{\\begin{split}\n",
    " \\theta, B \\leq G\\\\\n",
    " 2\\pi - \\theta, B>G\\\\ \n",
    "\\end{split}\\right.$\n",
    "\n",
    "$S=1-\\frac{3}{R+G+B}[\\min(R,G,B)]$\n",
    "\n",
    "$I=(R+G+B)/3$"
   ]
  },
  {
   "cell_type": "code",
   "execution_count": null,
   "metadata": {},
   "outputs": [],
   "source": [
    "def rgb_to_hsi(rgb):\n",
    "    r, g, b = rgb[...,0], rgb[...,1], rgb[...,2]\n",
    "    theta = np.arccos(\n",
    "        (((r - g) + (r - b)) / 2)\n",
    "        /\n",
    "        (((r - g) ** 2 + (r - b) * (g - b)) ** (1 / 2))\n",
    "    )\n",
    "    theta = theta\n",
    "    \n",
    "    H = np.zeros_like(theta)\n",
    "    H[b <= g] = theta[b <= g]\n",
    "    H[b > g] = 2 * np.pi - theta[b > g]\n",
    "    \n",
    "    S = 1 - 3 / (r + g + b) * np.minimum(np.minimum(r, g), b)\n",
    "    \n",
    "    I = (r + g + b) / 3\n",
    "    hsi = np.stack([H, S, I], axis=-1)\n",
    "    \n",
    "    return hsi"
   ]
  },
  {
   "cell_type": "code",
   "execution_count": null,
   "metadata": {},
   "outputs": [],
   "source": [
    "rgb_to_hsi(np.array([[1,0,1]]))"
   ]
  },
  {
   "cell_type": "code",
   "execution_count": null,
   "metadata": {},
   "outputs": [],
   "source": []
  }
 ],
 "metadata": {
  "kernelspec": {
   "display_name": "Python 3",
   "language": "python",
   "name": "python3"
  },
  "language_info": {
   "codemirror_mode": {
    "name": "ipython",
    "version": 3
   },
   "file_extension": ".py",
   "mimetype": "text/x-python",
   "name": "python",
   "nbconvert_exporter": "python",
   "pygments_lexer": "ipython3",
   "version": "3.8.5"
  }
 },
 "nbformat": 4,
 "nbformat_minor": 4
}
